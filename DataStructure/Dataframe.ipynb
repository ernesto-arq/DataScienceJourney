{
 "cells": [
  {
   "cell_type": "markdown",
   "metadata": {},
   "source": [
    "1. Carregar e visualizar dados: Aprenda a importar dados de um arquivo CSV usando Pandas e como visualizar as primeiras e últimas linhas desses dados.\n",
    "2. Manipulação de colunas: Pratique adicionar, remover e alterar colunas em um dataframe.\n",
    "3. Filtragem de dados: Use condições lógicas para filtrar dados, selecionando linhas que correspondam a critérios específicos.\n",
    "4. Ordenação e agrupamento: Aprenda a ordenar dados por uma ou mais colunas e a agrupar dados para análise sumária, como calcular médias ou somas por grupo.\n",
    "5. Tratamento de valores ausentes: Identifique e trate dados faltantes em seu dataset, usando métodos como preenchimento e exclusão.\n",
    "6. Junção de datasets: Pratique a junção de dois dataframes, similar ao que é feito em bancos de dados SQL, usando merge e join.\n",
    "10. Criação de novas variáveis: Desenvolva habilidades para criar novas colunas baseadas em operações matemáticas ou condicionais entre colunas existentes.\n",
    "11. Análise descritiva: Explore métodos para obter estatísticas resumidas, como média, mediana, moda, mínimo, máximo e desvio padrão.\n",
    "12. Exportar dados: Aprenda a exportar o dataframe modificado para um novo arquivo CSV.\n",
    "13. Visualização de dados: Utilize bibliotecas como Matplotlib ou Seaborn para criar gráficos a partir dos dados em seu dataframe, como histogramas, gráficos de linha e boxplots."
   ]
  }
 ],
 "metadata": {
  "kernelspec": {
   "display_name": "Python 3",
   "language": "python",
   "name": "python3"
  },
  "language_info": {
   "codemirror_mode": {
    "name": "ipython",
    "version": 3
   },
   "file_extension": ".py",
   "mimetype": "text/x-python",
   "name": "python",
   "nbconvert_exporter": "python",
   "pygments_lexer": "ipython3",
   "version": "3.11.9"
  }
 },
 "nbformat": 4,
 "nbformat_minor": 2
}
