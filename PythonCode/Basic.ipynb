{
 "cells": [
  {
   "cell_type": "markdown",
   "metadata": {},
   "source": [
    "### Instruções Básicas"
   ]
  },
  {
   "cell_type": "markdown",
   "metadata": {},
   "source": [
    "##### Criando Comentários"
   ]
  },
  {
   "cell_type": "code",
   "execution_count": 29,
   "metadata": {},
   "outputs": [],
   "source": [
    "# Comentário\n",
    "x = 1 # Esssa forma é um comentário também\n",
    "# a = 1\n",
    "# b = 2\n",
    "# c = 3"
   ]
  },
  {
   "cell_type": "markdown",
   "metadata": {},
   "source": [
    "##### Variáveis e Tipos de Dados: Armazenam informações que podem ser usadas e modificadas.\n"
   ]
  },
  {
   "cell_type": "code",
   "execution_count": 14,
   "metadata": {},
   "outputs": [],
   "source": [
    "x = 10 #inteiro\n",
    "y = 3.14 #ponto flutuante\n",
    "z = \"Ana\" #string"
   ]
  },
  {
   "cell_type": "markdown",
   "metadata": {},
   "source": [
    "##### Operações Matemáticas: Realizam cálculos simples a complexos.\n"
   ]
  },
  {
   "cell_type": "code",
   "execution_count": 15,
   "metadata": {},
   "outputs": [],
   "source": [
    "soma = x + y\n",
    "produto = x*y\n",
    "divisao = x/y"
   ]
  },
  {
   "cell_type": "markdown",
   "metadata": {},
   "source": [
    "##### Condicionais: Permitem tomar decisões no código.\n"
   ]
  },
  {
   "cell_type": "code",
   "execution_count": 17,
   "metadata": {},
   "outputs": [
    {
     "name": "stdout",
     "output_type": "stream",
     "text": [
      "X é maior que Y\n"
     ]
    }
   ],
   "source": [
    "if (x>y):\n",
    "    print(\"X é maior que Y\")\n",
    "elif(x <y):\n",
    "    print(\"X é menor que Y\")\n",
    "else:\n",
    "    print(\"X e Y são iguais\")    "
   ]
  },
  {
   "cell_type": "markdown",
   "metadata": {},
   "source": [
    "##### Laços de Repetição: Executam blocos de código repetidamente.\n"
   ]
  },
  {
   "cell_type": "code",
   "execution_count": 19,
   "metadata": {},
   "outputs": [
    {
     "name": "stdout",
     "output_type": "stream",
     "text": [
      "0\n",
      "1\n",
      "2\n",
      "3\n",
      "4\n"
     ]
    }
   ],
   "source": [
    "for i in range(5):\n",
    "    print(i)"
   ]
  },
  {
   "cell_type": "code",
   "execution_count": 23,
   "metadata": {},
   "outputs": [
    {
     "name": "stdout",
     "output_type": "stream",
     "text": [
      "0\n",
      "1\n",
      "2\n",
      "3\n",
      "4\n"
     ]
    }
   ],
   "source": [
    "i = 0\n",
    "while i < 5:\n",
    "    print(i)\n",
    "    i+=1    "
   ]
  },
  {
   "cell_type": "markdown",
   "metadata": {},
   "source": [
    "##### Funções: Blocos de código que realizam uma tarefa específica e podem ser reutilizados.\n"
   ]
  },
  {
   "cell_type": "code",
   "execution_count": 34,
   "metadata": {},
   "outputs": [
    {
     "name": "stdout",
     "output_type": "stream",
     "text": [
      "Olá meu nome é Paulo!\n"
     ]
    }
   ],
   "source": [
    "def imprimirNome(nome):\n",
    "    print(\"Olá meu nome é \" + nome + \"!\")\n",
    " \n",
    "imprimirNome(\"Paulo\")"
   ]
  },
  {
   "cell_type": "markdown",
   "metadata": {},
   "source": [
    "##### Listas e Dicionários: Estruturas de dados para armazenar coleções de itens.\n"
   ]
  },
  {
   "cell_type": "code",
   "execution_count": 8,
   "metadata": {},
   "outputs": [],
   "source": [
    "lista = [1,2,3,4,5]"
   ]
  },
  {
   "cell_type": "code",
   "execution_count": 9,
   "metadata": {},
   "outputs": [
    {
     "name": "stdout",
     "output_type": "stream",
     "text": [
      "Imprimindo a primeira posição da lista 1\n",
      "\n",
      "Imprimindo apartir da primeira posição da lista [1, 2, 3, 4, 5]\n",
      "\n",
      "Imprimindo terceira posição da lista a direita [4, 5]\n",
      "\n",
      "Imprimindo terceira posição da lista a esquerda [1, 2, 3]\n",
      "\n"
     ]
    }
   ],
   "source": [
    "#imprimindo e acessando a lista:\n",
    "print('Imprimindo a primeira posição da lista ' + str(lista[0]) + '\\n')\n",
    "print('Imprimindo apartir da primeira posição da lista ' + str(lista[0:]) + '\\n')\n",
    "print('Imprimindo terceira posição da lista a direita ' + str(lista[3:]) + '\\n')\n",
    "print('Imprimindo terceira posição da lista a esquerda ' + str(lista[:3]) + '\\n')"
   ]
  },
  {
   "cell_type": "code",
   "execution_count": 25,
   "metadata": {},
   "outputs": [
    {
     "name": "stdout",
     "output_type": "stream",
     "text": [
      "{'nome': 'Ana', 'idade': 25}\n",
      "Nome do dicinario: Ana\n",
      "Idade do dicinario: 25\n",
      "\n",
      " Primeiro Loop:\n",
      "nome:Ana\n",
      "idade:25\n",
      "\n",
      " Segundo Loop:\n",
      "nome:Ana\n",
      "idade:25\n"
     ]
    }
   ],
   "source": [
    "dicionario = {'nome':'Ana', 'idade':25}\n",
    "#imprimindo e acessando o dicionario:\n",
    "print(dicionario)\n",
    "\n",
    "nome = dicionario['nome']\n",
    "print('Nome do dicinario: ' + nome)\n",
    "idade = dicionario['idade']\n",
    "print('Idade do dicinario: ' + str(idade))\n",
    "print('\\n Primeiro Loop:')\n",
    "for chave, valor in dicionario.items():\n",
    "    print(str(chave) + \":\" + str(valor))\n",
    "    \n",
    "print('\\n Segundo Loop:')    \n",
    "for chave, valor in dicionario.items():\n",
    "    print(f'{chave}:{valor}')    "
   ]
  },
  {
   "cell_type": "markdown",
   "metadata": {},
   "source": [
    "##### Manipulação de Arquivos: Abrir, ler, escrever e fechar arquivos.\n"
   ]
  },
  {
   "cell_type": "code",
   "execution_count": 31,
   "metadata": {},
   "outputs": [
    {
     "name": "stdout",
     "output_type": "stream",
     "text": [
      "Olá, este é um exemplo de texto que será salvo no arquivo.\n",
      "Aqui temos uma segunda linha de texto.\n"
     ]
    }
   ],
   "source": [
    "arquivo = open('exemplo.txt', 'r')\n",
    "conteudo = arquivo.read()\n",
    "print(conteudo)\n",
    "arquivo.close()"
   ]
  },
  {
   "cell_type": "code",
   "execution_count": 34,
   "metadata": {},
   "outputs": [
    {
     "name": "stdout",
     "output_type": "stream",
     "text": [
      "Conteudo a seguir salvo: \n",
      "Esse e um texto para ser salvo no formato txt. \n",
      " Aqui temos um texto que foi salvo!\n"
     ]
    }
   ],
   "source": [
    "conteudo = 'Esse e um texto para ser salvo no formato txt. \\n Aqui temos um texto que foi salvo!'\n",
    "\n",
    "with open('exemplo.txt', 'w') as arquivo:\n",
    "    arquivo.write(conteudo)\n",
    "\n",
    "print('Conteudo a seguir salvo: \\n' + conteudo)    "
   ]
  },
  {
   "cell_type": "markdown",
   "metadata": {},
   "source": [
    "##### Tratamento de Exceções: Lidar com erros que podem ocorrer durante a execução do programa.\n"
   ]
  },
  {
   "cell_type": "code",
   "execution_count": 1,
   "metadata": {},
   "outputs": [
    {
     "name": "stdout",
     "output_type": "stream",
     "text": [
      "Impossivel dividir por zero\n"
     ]
    }
   ],
   "source": [
    "try:\n",
    "    x = 1\n",
    "    resultado = x/0\n",
    "except:\n",
    "    print('Impossivel dividir por zero')    "
   ]
  },
  {
   "cell_type": "markdown",
   "metadata": {},
   "source": [
    "##### Importação de Módulos: Incluir bibliotecas e módulos adicionais para expandir a funcionalidade do programa.\n"
   ]
  },
  {
   "cell_type": "code",
   "execution_count": 35,
   "metadata": {},
   "outputs": [
    {
     "name": "stdout",
     "output_type": "stream",
     "text": [
      "4.0\n"
     ]
    }
   ],
   "source": [
    "import math\n",
    "print(math.sqrt(16))\n"
   ]
  }
 ],
 "metadata": {
  "kernelspec": {
   "display_name": "Python 3",
   "language": "python",
   "name": "python3"
  },
  "language_info": {
   "codemirror_mode": {
    "name": "ipython",
    "version": 3
   },
   "file_extension": ".py",
   "mimetype": "text/x-python",
   "name": "python",
   "nbconvert_exporter": "python",
   "pygments_lexer": "ipython3",
   "version": "3.11.9"
  }
 },
 "nbformat": 4,
 "nbformat_minor": 2
}
