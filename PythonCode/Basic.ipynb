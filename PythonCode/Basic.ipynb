{
 "cells": [
  {
   "cell_type": "markdown",
   "metadata": {},
   "source": [
    "### Instruções Básicas"
   ]
  },
  {
   "cell_type": "markdown",
   "metadata": {},
   "source": [
    "##### Criando Comentários"
   ]
  },
  {
   "cell_type": "code",
   "execution_count": 29,
   "metadata": {},
   "outputs": [],
   "source": [
    "# Comentário\n",
    "x = 1 # Esssa forma é um comentário também\n",
    "# a = 1\n",
    "# b = 2\n",
    "# c = 3"
   ]
  },
  {
   "cell_type": "markdown",
   "metadata": {},
   "source": [
    "##### Variáveis e Tipos de Dados: Armazenam informações que podem ser usadas e modificadas.\n"
   ]
  },
  {
   "cell_type": "code",
   "execution_count": 11,
   "metadata": {},
   "outputs": [
    {
     "name": "stdout",
     "output_type": "stream",
     "text": [
      "10\n",
      "10.0\n",
      "3.14\n",
      "3\n",
      "Ana\n",
      "Ana Paula\n",
      "10\n",
      "Ana Paula10\n"
     ]
    }
   ],
   "source": [
    "x = 10 #inteiro\n",
    "print(x)\n",
    "x = float(x)\n",
    "print(x)\n",
    "\n",
    "y = 3.14 #ponto flutuante\n",
    "print(y)\n",
    "y = int(y)\n",
    "print(y)\n",
    "\n",
    "z = \"Ana\" #string\n",
    "print(z)\n",
    "z = z + \" \" \"Paula\"\n",
    "print(z)\n",
    "\n",
    "x = str(int(x)) # Convertendo para inteiro e de inteiro para string.\n",
    "print(x)\n",
    "x = z + x\n",
    "print(x)\n"
   ]
  },
  {
   "cell_type": "markdown",
   "metadata": {},
   "source": [
    "##### Operações Matemáticas: Realizam cálculos simples a complexos.\n"
   ]
  },
  {
   "cell_type": "code",
   "execution_count": 65,
   "metadata": {},
   "outputs": [
    {
     "name": "stdout",
     "output_type": "stream",
     "text": [
      "25\n",
      "25\n",
      "A raiz quadrada de 25 é 5.0\n"
     ]
    }
   ],
   "source": [
    "import math\n",
    "\n",
    "x = 10 #inteiro\n",
    "y = 3.14 #ponto flutuante\n",
    "\n",
    "soma = x + y\n",
    "produto = x*y\n",
    "divisao = x/y\n",
    "\n",
    "x1 = abs(x) #Valor absoluto\n",
    "square1 = pow(5, 2)\n",
    "print(square1)\n",
    "square2 = 5*5\n",
    "print(square2)\n",
    "\n",
    "numero = 25\n",
    "raiz_quadrada = math.sqrt(numero)\n",
    "print(\"A raiz quadrada de\", numero, \"é\", raiz_quadrada)"
   ]
  },
  {
   "cell_type": "markdown",
   "metadata": {},
   "source": [
    "##### Condicionais: Permitem tomar decisões no código.\n"
   ]
  },
  {
   "cell_type": "code",
   "execution_count": 84,
   "metadata": {},
   "outputs": [
    {
     "name": "stdout",
     "output_type": "stream",
     "text": [
      "X é menor que Y\n",
      "A É Igual B\n",
      "A é diferente de C\n",
      "O resto da divisão é 0\n",
      "D é Verdadeiro\n",
      "D é verdadeiro e a igual 1\n",
      "d é False e a é 1, ou seja uma condição verdadeira\n"
     ]
    }
   ],
   "source": [
    "x = 1\n",
    "y = 2\n",
    "\n",
    "if (x>y):\n",
    "    print(\"X é maior que Y\")\n",
    "elif(x <y):\n",
    "    print(\"X é menor que Y\")\n",
    "else:\n",
    "    print(\"X e Y são iguais\") \n",
    "        \n",
    "a = 1\n",
    "b = 1\n",
    "c = 2\n",
    "if (a == b):\n",
    "    print(\"A É Igual B\")\n",
    "if (a != c):\n",
    "    print(\"A é diferente de C\")\n",
    "if (a%b == 0):\n",
    "    z = a%b\n",
    "    print(f\"O resto da divisão é {z}\")\n",
    "    \n",
    "d = True\n",
    "if (d == True):\n",
    "    print(\"D é Verdadeiro\")\n",
    "if (d == True) and (a == 1):\n",
    "    print(\"D é verdadeiro e a igual 1\")\n",
    "d = False\n",
    "if (d == True) or (a == 1):\n",
    "    print(f\"d é {d} e a é {a}, ou seja uma condição verdadeira\")    "
   ]
  },
  {
   "cell_type": "markdown",
   "metadata": {},
   "source": [
    "##### Laços de Repetição: Executam blocos de código repetidamente.\n"
   ]
  },
  {
   "cell_type": "code",
   "execution_count": 228,
   "metadata": {},
   "outputs": [
    {
     "name": "stdout",
     "output_type": "stream",
     "text": [
      "0\n",
      "1\n",
      "2\n",
      "\n",
      "\n",
      "0\n",
      "1\n",
      "2\n",
      "\n",
      "\n",
      "1\n",
      "3\n",
      "5\n",
      "['O', 'l', 'á', ',', 'm', 'u', 'n', 'd', 'o', '!', 'E', 's', 't', 'e', 'é', 'u', 'm', 'e', 'x', 'e', 'm', 'p', 'l', 'o', 'd', 'e', 't', 'e', 'x', 't', 'o', '.']\n",
      "['Olá,', 'mundo!', 'Este', 'é', 'um', 'exemplo', 'de', 'texto.']\n",
      "['Olá,', 'mundo!', 'Esse', 'é', 'um', 'novo', 'exemplo', 'de', 'texto!', 'Saudações,', 'tudo', 'bom?']\n",
      "['Olá', 'mundo', 'Esse', 'é', 'um', 'novo', 'exemplo', 'de', 'texto', 'Saudações', 'tudo', 'bom']\n",
      "['Olá', 'Saudações', 'bom']\n"
     ]
    }
   ],
   "source": [
    "for i in range(3):\n",
    "    print(i)\n",
    "print(\"\\n\")    \n",
    "lista = [0,1,2]        \n",
    "for i in range(len(lista)):\n",
    "    print(lista[i])\n",
    "print(\"\\n\")       \n",
    "for i in range(len(lista)):\n",
    "    lista[i] = lista[i]*2 + 1\n",
    "    print(lista[i])\n",
    "    \n",
    "texto = \"Olá, mundo! Este é um exemplo de texto.\"\n",
    "listaLetras = []\n",
    "for i in range(len(texto)):\n",
    "    if texto[i] != ' ':\n",
    "        listaLetras.append(texto[i])\n",
    "print(listaLetras)\n",
    "\n",
    "texto = \"Olá, mundo! Este é um exemplo de texto.\"\n",
    "listaPlavaras = []\n",
    "contador = 0\n",
    "string = ''\n",
    "for i in range(len(texto)):\n",
    "    contador +=1\n",
    "    if texto[i] != ' ':\n",
    "        string = string + texto[i]\n",
    "    if texto[i] == ' ' or i == len(texto) -1:\n",
    "        listaPlavaras.append(string)\n",
    "        string = ''\n",
    "print(listaPlavaras)\n",
    "\n",
    "\n",
    "\n",
    "#Funcao para separar palavras:\n",
    "\n",
    "def separadorDePalavras(texto):\n",
    "    listaPlavaras = []\n",
    "    string = ''\n",
    "    for i in range(len(texto)):\n",
    "        if texto[i] != ' ':\n",
    "            string = string + texto[i]\n",
    "        if texto[i] == ' ' or i == len(texto) -1:\n",
    "            listaPlavaras.append(string)\n",
    "            string = ''\n",
    "    return listaPlavaras\n",
    "\n",
    "def verificadoDePalavras(texto):\n",
    "    listaVerificacao = ['Olá', 'Saudações', 'muito', 'bom', 'ruim']\n",
    "    novaLista = []\n",
    "    encontramos = []\n",
    "    string = ''\n",
    "    stringCompleta = ''\n",
    "    for palavra in range(len(texto)):\n",
    "        string = texto[palavra]\n",
    "        #remover caracteres especiais\n",
    "        for letra in range(len(string)):\n",
    "            if (string[letra] != ' ') and (string[letra] != ',') and (string[letra] != '!') and (string[letra] != '?'):\n",
    "                stringCompleta = stringCompleta + string[letra]\n",
    "            if (string[letra] == ' ') or (string[letra] == ',') or (string[letra] == '!') or (string[letra] == '?'):\n",
    "                novaLista.append(stringCompleta)\n",
    "                stringCompleta = ''              \n",
    "    i = 0\n",
    "    while i < len(novaLista):\n",
    "        if len(novaLista[i]) == 0:\n",
    "            del novaLista[i]\n",
    "        else:\n",
    "            i += 1\n",
    "            \n",
    "    for indice in range(len(novaLista)):\n",
    "        palavra = novaLista[indice]\n",
    "        if palavra in listaVerificacao:\n",
    "            encontramos.append(palavra)\n",
    "    print(novaLista)\n",
    "    print(encontramos)\n",
    "                \n",
    "\n",
    "texto = \"Olá, mundo! Esse é um novo exemplo de texto! Saudações, tudo bom?\"\n",
    "separado = separadorDePalavras(texto) \n",
    "print(separado)\n",
    "verificadoDePalavras(texto)\n",
    "#encontrado = verificadoDePalavras(separado)\n",
    "#print(encontrado)        "
   ]
  },
  {
   "cell_type": "code",
   "execution_count": 23,
   "metadata": {},
   "outputs": [
    {
     "name": "stdout",
     "output_type": "stream",
     "text": [
      "0\n",
      "1\n",
      "2\n",
      "3\n",
      "4\n"
     ]
    }
   ],
   "source": [
    "i = 0\n",
    "while i < 5:\n",
    "    print(i)\n",
    "    i+=1    "
   ]
  },
  {
   "cell_type": "markdown",
   "metadata": {},
   "source": [
    "##### Funções: Blocos de código que realizam uma tarefa específica e podem ser reutilizados.\n"
   ]
  },
  {
   "cell_type": "code",
   "execution_count": 34,
   "metadata": {},
   "outputs": [
    {
     "name": "stdout",
     "output_type": "stream",
     "text": [
      "Olá meu nome é Paulo!\n"
     ]
    }
   ],
   "source": [
    "def imprimirNome(nome):\n",
    "    print(\"Olá meu nome é \" + nome + \"!\")\n",
    " \n",
    "imprimirNome(\"Paulo\")"
   ]
  },
  {
   "cell_type": "markdown",
   "metadata": {},
   "source": [
    "##### Listas e Dicionários: Estruturas de dados para armazenar coleções de itens.\n"
   ]
  },
  {
   "cell_type": "code",
   "execution_count": 8,
   "metadata": {},
   "outputs": [],
   "source": [
    "lista = [1,2,3,4,5]"
   ]
  },
  {
   "cell_type": "code",
   "execution_count": 9,
   "metadata": {},
   "outputs": [
    {
     "name": "stdout",
     "output_type": "stream",
     "text": [
      "Imprimindo a primeira posição da lista 1\n",
      "\n",
      "Imprimindo apartir da primeira posição da lista [1, 2, 3, 4, 5]\n",
      "\n",
      "Imprimindo terceira posição da lista a direita [4, 5]\n",
      "\n",
      "Imprimindo terceira posição da lista a esquerda [1, 2, 3]\n",
      "\n"
     ]
    }
   ],
   "source": [
    "#imprimindo e acessando a lista:\n",
    "print('Imprimindo a primeira posição da lista ' + str(lista[0]) + '\\n')\n",
    "print('Imprimindo apartir da primeira posição da lista ' + str(lista[0:]) + '\\n')\n",
    "print('Imprimindo terceira posição da lista a direita ' + str(lista[3:]) + '\\n')\n",
    "print('Imprimindo terceira posição da lista a esquerda ' + str(lista[:3]) + '\\n')"
   ]
  },
  {
   "cell_type": "code",
   "execution_count": 25,
   "metadata": {},
   "outputs": [
    {
     "name": "stdout",
     "output_type": "stream",
     "text": [
      "{'nome': 'Ana', 'idade': 25}\n",
      "Nome do dicinario: Ana\n",
      "Idade do dicinario: 25\n",
      "\n",
      " Primeiro Loop:\n",
      "nome:Ana\n",
      "idade:25\n",
      "\n",
      " Segundo Loop:\n",
      "nome:Ana\n",
      "idade:25\n"
     ]
    }
   ],
   "source": [
    "dicionario = {'nome':'Ana', 'idade':25}\n",
    "#imprimindo e acessando o dicionario:\n",
    "print(dicionario)\n",
    "\n",
    "nome = dicionario['nome']\n",
    "print('Nome do dicinario: ' + nome)\n",
    "idade = dicionario['idade']\n",
    "print('Idade do dicinario: ' + str(idade))\n",
    "print('\\n Primeiro Loop:')\n",
    "for chave, valor in dicionario.items():\n",
    "    print(str(chave) + \":\" + str(valor))\n",
    "    \n",
    "print('\\n Segundo Loop:')    \n",
    "for chave, valor in dicionario.items():\n",
    "    print(f'{chave}:{valor}')    "
   ]
  },
  {
   "cell_type": "markdown",
   "metadata": {},
   "source": [
    "##### Manipulação de Arquivos: Abrir, ler, escrever e fechar arquivos.\n"
   ]
  },
  {
   "cell_type": "code",
   "execution_count": 31,
   "metadata": {},
   "outputs": [
    {
     "name": "stdout",
     "output_type": "stream",
     "text": [
      "Olá, este é um exemplo de texto que será salvo no arquivo.\n",
      "Aqui temos uma segunda linha de texto.\n"
     ]
    }
   ],
   "source": [
    "arquivo = open('exemplo.txt', 'r')\n",
    "conteudo = arquivo.read()\n",
    "print(conteudo)\n",
    "arquivo.close()"
   ]
  },
  {
   "cell_type": "code",
   "execution_count": 34,
   "metadata": {},
   "outputs": [
    {
     "name": "stdout",
     "output_type": "stream",
     "text": [
      "Conteudo a seguir salvo: \n",
      "Esse e um texto para ser salvo no formato txt. \n",
      " Aqui temos um texto que foi salvo!\n"
     ]
    }
   ],
   "source": [
    "conteudo = 'Esse e um texto para ser salvo no formato txt. \\n Aqui temos um texto que foi salvo!'\n",
    "\n",
    "with open('exemplo.txt', 'w') as arquivo:\n",
    "    arquivo.write(conteudo)\n",
    "\n",
    "print('Conteudo a seguir salvo: \\n' + conteudo)    "
   ]
  },
  {
   "cell_type": "markdown",
   "metadata": {},
   "source": [
    "##### Tratamento de Exceções: Lidar com erros que podem ocorrer durante a execução do programa.\n"
   ]
  },
  {
   "cell_type": "code",
   "execution_count": 1,
   "metadata": {},
   "outputs": [
    {
     "name": "stdout",
     "output_type": "stream",
     "text": [
      "Impossivel dividir por zero\n"
     ]
    }
   ],
   "source": [
    "try:\n",
    "    x = 1\n",
    "    resultado = x/0\n",
    "except:\n",
    "    print('Impossivel dividir por zero')    "
   ]
  },
  {
   "cell_type": "markdown",
   "metadata": {},
   "source": [
    "##### Importação de Módulos: Incluir bibliotecas e módulos adicionais para expandir a funcionalidade do programa.\n"
   ]
  },
  {
   "cell_type": "code",
   "execution_count": 35,
   "metadata": {},
   "outputs": [
    {
     "name": "stdout",
     "output_type": "stream",
     "text": [
      "4.0\n"
     ]
    }
   ],
   "source": [
    "import math\n",
    "print(math.sqrt(16))\n"
   ]
  }
 ],
 "metadata": {
  "kernelspec": {
   "display_name": "Python 3",
   "language": "python",
   "name": "python3"
  },
  "language_info": {
   "codemirror_mode": {
    "name": "ipython",
    "version": 3
   },
   "file_extension": ".py",
   "mimetype": "text/x-python",
   "name": "python",
   "nbconvert_exporter": "python",
   "pygments_lexer": "ipython3",
   "version": "3.11.9"
  }
 },
 "nbformat": 4,
 "nbformat_minor": 2
}
